{
 "cells": [
  {
   "cell_type": "code",
   "execution_count": 6,
   "id": "6d3bd396",
   "metadata": {},
   "outputs": [
    {
     "name": "stdout",
     "output_type": "stream",
     "text": [
      "          0  1   2      3   4   5  6   7   8   9   ... 44 45  46 47 48 49  50  \\\n",
      "0          1  C   5    Web   0   1  F   6   1   0  ...  0  0   0  0  1  N  32   \n",
      "1          2  C  15  Carga   0   1  F   2   0   0  ...  0  0   0  0  1  N  34   \n",
      "2          3  C   5    Web   0   1  F   2   0   0  ...  0  0   0  0  1  N  27   \n",
      "3          4  C  20    Web   0   1  F   2   0   0  ...  0  0   0  0  1  N  61   \n",
      "4          5  C  10    Web   0   1  M   2   0   0  ...  0  0   0  0  1  N  48   \n",
      "...      ... ..  ..    ...  ..  .. ..  ..  ..  ..  ... .. ..  .. .. .. ..  ..   \n",
      "49995  49996  C  10      0   0   1  F   1   2   0  ...  0  0   0  0  1  N  36   \n",
      "49996  49997  C  25      0   0   1  F   1   0   0  ...  0  0   0  0  2  N  21   \n",
      "49997  49998  C   5    Web   0   1  M   2   3   0  ...  0  0   0  0  1  N  41   \n",
      "49998  49999  C   1    Web   0   1  F   1   1   0  ...  0  0   0  0  1  N  28   \n",
      "49999  50000  C  10    Web   0   1  F   2   2   0  ...  0  0   0  0  1  N  27   \n",
      "\n",
      "        51   52  53  \n",
      "0      595  595   1  \n",
      "1      230  230   1  \n",
      "2      591  591   0  \n",
      "3      545  545   0  \n",
      "4      235  235   1  \n",
      "...    ...  ...  ..  \n",
      "49995  591  591   1  \n",
      "49996  186  186   0  \n",
      "49997  715  715   0  \n",
      "49998  320  320   1  \n",
      "49999  124  124   0  \n",
      "\n",
      "[50000 rows x 54 columns]\n"
     ]
    }
   ],
   "source": [
    "import pandas as pd\n",
    "\n",
    "df = pd.read_csv(\"PAKDD2010.txt\", sep=\"\\t\", engine=\"python\", header=None)\n",
    "print(df)\n",
    "df.to_csv(\"PAKDD2010.csv\",index=False)"
   ]
  }
 ],
 "metadata": {
  "kernelspec": {
   "display_name": "Python 3",
   "language": "python",
   "name": "python3"
  },
  "language_info": {
   "codemirror_mode": {
    "name": "ipython",
    "version": 3
   },
   "file_extension": ".py",
   "mimetype": "text/x-python",
   "name": "python",
   "nbconvert_exporter": "python",
   "pygments_lexer": "ipython3",
   "version": "3.7.9"
  }
 },
 "nbformat": 4,
 "nbformat_minor": 5
}
